{
  "nbformat": 4,
  "nbformat_minor": 0,
  "metadata": {
    "colab": {
      "provenance": []
    },
    "kernelspec": {
      "name": "python3",
      "display_name": "Python 3"
    },
    "language_info": {
      "name": "python"
    }
  },
  "cells": [
    {
      "cell_type": "code",
      "execution_count": 3,
      "metadata": {
        "id": "-raeWv8IBb6M"
      },
      "outputs": [],
      "source": [
        "import torch\n",
        "import torch.nn as nn\n",
        "import torch.optim as optim\n",
        "import matplotlib.pyplot as plt\n",
        "import numpy as np\n",
        "%matplotlib inline\n",
        "plt.style.use(\"ggplot\")"
      ]
    },
    {
      "cell_type": "code",
      "source": [
        "a = 3\n",
        "b = 2\n",
        "# 以下は，等差数列を作成し，\n",
        "x = torch.linspace(0, 5, 100).view(100, 1)\n",
        "print(x)"
      ],
      "metadata": {
        "colab": {
          "base_uri": "https://localhost:8080/"
        },
        "id": "0sEAYeWiBvBt",
        "outputId": "64050dc8-4e7a-4904-bf88-32bfd66e9e24"
      },
      "execution_count": 39,
      "outputs": [
        {
          "output_type": "stream",
          "name": "stdout",
          "text": [
            "tensor([[0.0000],\n",
            "        [0.0505],\n",
            "        [0.1010],\n",
            "        [0.1515],\n",
            "        [0.2020],\n",
            "        [0.2525],\n",
            "        [0.3030],\n",
            "        [0.3535],\n",
            "        [0.4040],\n",
            "        [0.4545],\n",
            "        [0.5051],\n",
            "        [0.5556],\n",
            "        [0.6061],\n",
            "        [0.6566],\n",
            "        [0.7071],\n",
            "        [0.7576],\n",
            "        [0.8081],\n",
            "        [0.8586],\n",
            "        [0.9091],\n",
            "        [0.9596],\n",
            "        [1.0101],\n",
            "        [1.0606],\n",
            "        [1.1111],\n",
            "        [1.1616],\n",
            "        [1.2121],\n",
            "        [1.2626],\n",
            "        [1.3131],\n",
            "        [1.3636],\n",
            "        [1.4141],\n",
            "        [1.4646],\n",
            "        [1.5152],\n",
            "        [1.5657],\n",
            "        [1.6162],\n",
            "        [1.6667],\n",
            "        [1.7172],\n",
            "        [1.7677],\n",
            "        [1.8182],\n",
            "        [1.8687],\n",
            "        [1.9192],\n",
            "        [1.9697],\n",
            "        [2.0202],\n",
            "        [2.0707],\n",
            "        [2.1212],\n",
            "        [2.1717],\n",
            "        [2.2222],\n",
            "        [2.2727],\n",
            "        [2.3232],\n",
            "        [2.3737],\n",
            "        [2.4242],\n",
            "        [2.4747],\n",
            "        [2.5253],\n",
            "        [2.5758],\n",
            "        [2.6263],\n",
            "        [2.6768],\n",
            "        [2.7273],\n",
            "        [2.7778],\n",
            "        [2.8283],\n",
            "        [2.8788],\n",
            "        [2.9293],\n",
            "        [2.9798],\n",
            "        [3.0303],\n",
            "        [3.0808],\n",
            "        [3.1313],\n",
            "        [3.1818],\n",
            "        [3.2323],\n",
            "        [3.2828],\n",
            "        [3.3333],\n",
            "        [3.3838],\n",
            "        [3.4343],\n",
            "        [3.4848],\n",
            "        [3.5354],\n",
            "        [3.5859],\n",
            "        [3.6364],\n",
            "        [3.6869],\n",
            "        [3.7374],\n",
            "        [3.7879],\n",
            "        [3.8384],\n",
            "        [3.8889],\n",
            "        [3.9394],\n",
            "        [3.9899],\n",
            "        [4.0404],\n",
            "        [4.0909],\n",
            "        [4.1414],\n",
            "        [4.1919],\n",
            "        [4.2424],\n",
            "        [4.2929],\n",
            "        [4.3434],\n",
            "        [4.3939],\n",
            "        [4.4444],\n",
            "        [4.4949],\n",
            "        [4.5455],\n",
            "        [4.5960],\n",
            "        [4.6465],\n",
            "        [4.6970],\n",
            "        [4.7475],\n",
            "        [4.7980],\n",
            "        [4.8485],\n",
            "        [4.8990],\n",
            "        [4.9495],\n",
            "        [5.0000]])\n"
          ]
        }
      ]
    },
    {
      "cell_type": "code",
      "source": [
        "eps = torch.randn(100, 1)\n",
        "y = a * x * b + eps"
      ],
      "metadata": {
        "id": "DrKg8JmTB-kt"
      },
      "execution_count": 12,
      "outputs": []
    },
    {
      "cell_type": "code",
      "source": [
        "plt.scatter(x, y)"
      ],
      "metadata": {
        "colab": {
          "base_uri": "https://localhost:8080/",
          "height": 447
        },
        "id": "-7Z03zi3CQr4",
        "outputId": "c0b71040-bf25-4501-c894-2848434795ae"
      },
      "execution_count": 13,
      "outputs": [
        {
          "output_type": "execute_result",
          "data": {
            "text/plain": [
              "<matplotlib.collections.PathCollection at 0x7bf62cd88bb0>"
            ]
          },
          "metadata": {},
          "execution_count": 13
        },
        {
          "output_type": "display_data",
          "data": {
            "text/plain": [
              "<Figure size 640x480 with 1 Axes>"
            ],
            "image/png": "[encoded data removed]"
          },
          "metadata": {}
        }
      ]
    },
    {
      "cell_type": "code",
      "source": [
        "class LR(nn.Module):\n",
        "  def __init__(self):\n",
        "    super().__init__()\n",
        "    self.linear = nn.Linear(in_features=1, out_features=1)\n",
        "  def forward(self, x):\n",
        "    output = self.linear(x)\n",
        "    return output"
      ],
      "metadata": {
        "id": "XH6fyU7YCuk1"
      },
      "execution_count": 19,
      "outputs": []
    },
    {
      "cell_type": "code",
      "source": [
        "model = LR()"
      ],
      "metadata": {
        "id": "ci8lyZmfCzA_"
      },
      "execution_count": 20,
      "outputs": []
    },
    {
      "cell_type": "code",
      "source": [
        "x_test = torch.tensor([[1.0], [2.0]])"
      ],
      "metadata": {
        "id": "anRE27RoDOYw"
      },
      "execution_count": 21,
      "outputs": []
    },
    {
      "cell_type": "code",
      "source": [
        "model(x_test)"
      ],
      "metadata": {
        "colab": {
          "base_uri": "https://localhost:8080/"
        },
        "id": "XWNI3qJ5DTUM",
        "outputId": "7ad0823a-1683-4808-bfa6-ea95cedc74d2"
      },
      "execution_count": 22,
      "outputs": [
        {
          "output_type": "execute_result",
          "data": {
            "text/plain": [
              "tensor([[-1.0078],\n",
              "        [-1.9348]], grad_fn=<AddmmBackward0>)"
            ]
          },
          "metadata": {},
          "execution_count": 22
        }
      ]
    },
    {
      "cell_type": "code",
      "source": [
        "x2 = torch.linspace(0, 3, 100).view(100, 1)"
      ],
      "metadata": {
        "id": "wGCL9pDyDVFN"
      },
      "execution_count": 23,
      "outputs": []
    },
    {
      "cell_type": "code",
      "source": [
        "x2.size()"
      ],
      "metadata": {
        "colab": {
          "base_uri": "https://localhost:8080/"
        },
        "id": "RNcfNzQaDfUA",
        "outputId": "136bbee1-74c6-408e-aaff-92b9fbb4f060"
      },
      "execution_count": 24,
      "outputs": [
        {
          "output_type": "execute_result",
          "data": {
            "text/plain": [
              "torch.Size([100, 1])"
            ]
          },
          "metadata": {},
          "execution_count": 24
        }
      ]
    },
    {
      "cell_type": "code",
      "source": [
        "y_pred = model(x2)"
      ],
      "metadata": {
        "id": "SxGIs4P9DgwE"
      },
      "execution_count": 25,
      "outputs": []
    },
    {
      "cell_type": "code",
      "source": [
        "plt.plot(x2, y_pred.detach(), label=\"prediction\")\n",
        "plt.scatter(x, y, label=\"data\")\n",
        "plt.legend()"
      ],
      "metadata": {
        "colab": {
          "base_uri": "https://localhost:8080/",
          "height": 447
        },
        "id": "cu4SRkx3DjyD",
        "outputId": "c23e8d24-ab1b-4992-defb-39e5d735479e"
      },
      "execution_count": 28,
      "outputs": [
        {
          "output_type": "execute_result",
          "data": {
            "text/plain": [
              "<matplotlib.legend.Legend at 0x7bf62cf67c70>"
            ]
          },
          "metadata": {},
          "execution_count": 28
        },
        {
          "output_type": "display_data",
          "data": {
            "text/plain": [
              "<Figure size 640x480 with 1 Axes>"
            ],
            "image/png": "[encoded data removed]"
          },
          "metadata": {}
        }
      ]
    },
    {
      "cell_type": "code",
      "source": [
        "criterion = nn.MSELoss()\n",
        "optimizer = optim.SGD(model.parameters(), lr=0.001)"
      ],
      "metadata": {
        "id": "CcQfMEdWDsbP"
      },
      "execution_count": 31,
      "outputs": []
    },
    {
      "cell_type": "code",
      "source": [
        "losses = []\n",
        "num_epoch = 500\n",
        "for epoch in range(num_epoch):\n",
        "  optimizer.zero_grad()\n",
        "  y_pred = model(x)\n",
        "  loss = criterion(y_pred, y)\n",
        "  loss.backward()\n",
        "  optimizer.step()\n",
        "  if epoch % 10 == 0:\n",
        "    print(\"epoch: {}, loss: {}\".format(epoch, loss.item()))\n",
        "    losses.append(loss.item())"
      ],
      "metadata": {
        "colab": {
          "base_uri": "https://localhost:8080/"
        },
        "id": "MDoVFD8mD7WQ",
        "outputId": "aee27eb7-3d36-4b11-8ce0-aa607f9ddaed"
      },
      "execution_count": 36,
      "outputs": [
        {
          "output_type": "stream",
          "name": "stdout",
          "text": [
            "epoch: 0, loss: 401.7311706542969\n",
            "epoch: 10, loss: 278.2718200683594\n",
            "epoch: 20, loss: 192.91531372070312\n",
            "epoch: 30, loss: 133.90150451660156\n",
            "epoch: 40, loss: 93.09976196289062\n",
            "epoch: 50, loss: 64.88905334472656\n",
            "epoch: 60, loss: 45.38323211669922\n",
            "epoch: 70, loss: 31.895587921142578\n",
            "epoch: 80, loss: 22.568647384643555\n",
            "epoch: 90, loss: 16.118247985839844\n",
            "epoch: 100, loss: 11.656566619873047\n",
            "epoch: 110, loss: 8.569828033447266\n",
            "epoch: 120, loss: 6.4336838722229\n",
            "epoch: 130, loss: 4.954751968383789\n",
            "epoch: 140, loss: 3.9302000999450684\n",
            "epoch: 150, loss: 3.2198126316070557\n",
            "epoch: 160, loss: 2.7266454696655273\n",
            "epoch: 170, loss: 2.3836660385131836\n",
            "epoch: 180, loss: 2.144535779953003\n",
            "epoch: 190, loss: 1.977229118347168\n",
            "epoch: 200, loss: 1.8595912456512451\n",
            "epoch: 210, loss: 1.7763090133666992\n",
            "epoch: 220, loss: 1.7168010473251343\n",
            "epoch: 230, loss: 1.6737459897994995\n",
            "epoch: 240, loss: 1.6420817375183105\n",
            "epoch: 250, loss: 1.6183124780654907\n",
            "epoch: 260, loss: 1.6000174283981323\n",
            "epoch: 270, loss: 1.5855238437652588\n",
            "epoch: 280, loss: 1.5736777782440186\n",
            "epoch: 290, loss: 1.563676357269287\n",
            "epoch: 300, loss: 1.5549687147140503\n",
            "epoch: 310, loss: 1.547171950340271\n",
            "epoch: 320, loss: 1.5400201082229614\n",
            "epoch: 330, loss: 1.533331274986267\n",
            "epoch: 340, loss: 1.5269789695739746\n",
            "epoch: 350, loss: 1.5208745002746582\n",
            "epoch: 360, loss: 1.514958381652832\n",
            "epoch: 370, loss: 1.5091869831085205\n",
            "epoch: 380, loss: 1.5035320520401\n",
            "epoch: 390, loss: 1.497972846031189\n",
            "epoch: 400, loss: 1.4924947023391724\n",
            "epoch: 410, loss: 1.4870884418487549\n",
            "epoch: 420, loss: 1.481745958328247\n",
            "epoch: 430, loss: 1.4764634370803833\n",
            "epoch: 440, loss: 1.4712365865707397\n",
            "epoch: 450, loss: 1.4660630226135254\n",
            "epoch: 460, loss: 1.460939884185791\n",
            "epoch: 470, loss: 1.4558666944503784\n",
            "epoch: 480, loss: 1.4508421421051025\n",
            "epoch: 490, loss: 1.445865511894226\n"
          ]
        }
      ]
    },
    {
      "cell_type": "code",
      "source": [
        "plt.plot(losses)"
      ],
      "metadata": {
        "colab": {
          "base_uri": "https://localhost:8080/",
          "height": 447
        },
        "id": "oQt3_Qd1EIhh",
        "outputId": "0d6a3140-6161-49a5-da4c-d2f43de7e151"
      },
      "execution_count": 37,
      "outputs": [
        {
          "output_type": "execute_result",
          "data": {
            "text/plain": [
              "[<matplotlib.lines.Line2D at 0x7bf612a51f60>]"
            ]
          },
          "metadata": {},
          "execution_count": 37
        },
        {
          "output_type": "display_data",
          "data": {
            "text/plain": [
              "<Figure size 640x480 with 1 Axes>"
            ],
            "image/png": "[encoded data removed]"
          },
          "metadata": {}
        }
      ]
    },
    {
      "cell_type": "code",
      "source": [
        "x_test = torch.linspace(0, 5, 100).view(100, 1)\n",
        "y_test = model(x_test)\n",
        "plt.plot(x_test, y_test.detach(), label=\"prediction\")\n",
        "plt.scatter(x, y, label=\"data\")\n",
        "plt.legend()"
      ],
      "metadata": {
        "colab": {
          "base_uri": "https://localhost:8080/",
          "height": 447
        },
        "id": "MqNN8a_yE7YY",
        "outputId": "b2fb567f-c679-4f18-8cc6-b0a8b4fb71aa"
      },
      "execution_count": 38,
      "outputs": [
        {
          "output_type": "execute_result",
          "data": {
            "text/plain": [
              "<matplotlib.legend.Legend at 0x7bf62ce4df90>"
            ]
          },
          "metadata": {},
          "execution_count": 38
        },
        {
          "output_type": "display_data",
          "data": {
            "text/plain": [
              "<Figure size 640x480 with 1 Axes>"
            ],
            "image/png": "[encoded data removed]"
          },
          "metadata": {}
        }
      ]
    },
    {
      "cell_type": "code",
      "source": [],
      "metadata": {
        "id": "ei2p5f2KFffY"
      },
      "execution_count": null,
      "outputs": []
    }
  ]
}