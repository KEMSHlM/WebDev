{
  "nbformat": 4,
  "nbformat_minor": 0,
  "metadata": {
    "colab": {
      "provenance": []
    },
    "kernelspec": {
      "name": "python3",
      "display_name": "Python 3"
    },
    "language_info": {
      "name": "python"
    }
  },
  "cells": [
    {
      "cell_type": "code",
      "execution_count": 1,
      "metadata": {
        "id": "_84vvL66y3ai"
      },
      "outputs": [],
      "source": [
        "import torch"
      ]
    },
    {
      "cell_type": "markdown",
      "source": [
        "$y = 3 x^{3}$"
      ],
      "metadata": {
        "id": "La-PP4KSzJKM"
      }
    },
    {
      "cell_type": "markdown",
      "source": [
        "$\\frac{dy}{dx} = 9 x^{2}$"
      ],
      "metadata": {
        "id": "8tQPVKk9zL9b"
      }
    },
    {
      "cell_type": "code",
      "source": [
        "x = torch.tensor([2], dtype=torch.float32, requires_grad=True)\n"
      ],
      "metadata": {
        "id": "4Jc8GulOy-gA"
      },
      "execution_count": 3,
      "outputs": []
    },
    {
      "cell_type": "code",
      "source": [
        "y = 3 * x ** 3"
      ],
      "metadata": {
        "id": "Eh9AzRPNzD0v"
      },
      "execution_count": 4,
      "outputs": []
    },
    {
      "cell_type": "code",
      "source": [
        "y.backward()"
      ],
      "metadata": {
        "id": "DesAe5WZF4S7"
      },
      "execution_count": 5,
      "outputs": []
    },
    {
      "cell_type": "code",
      "source": [
        "x.grad"
      ],
      "metadata": {
        "colab": {
          "base_uri": "https://localhost:8080/"
        },
        "id": "ciNhBDdSGRrw",
        "outputId": "3234e1e0-2896-4bc0-d87f-1d094ac1b64b"
      },
      "execution_count": 7,
      "outputs": [
        {
          "output_type": "execute_result",
          "data": {
            "text/plain": [
              "tensor([36.])"
            ]
          },
          "metadata": {},
          "execution_count": 7
        }
      ]
    },
    {
      "cell_type": "code",
      "source": [],
      "metadata": {
        "id": "mW-pbAXzGTff"
      },
      "execution_count": null,
      "outputs": []
    }
  ]
}